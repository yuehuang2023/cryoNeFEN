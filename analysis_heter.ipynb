{
 "cells": [
  {
   "cell_type": "code",
   "execution_count": null,
   "metadata": {
    "execution": {
     "iopub.execute_input": "2023-11-21T07:04:27.354264Z",
     "iopub.status.busy": "2023-11-21T07:04:27.353189Z",
     "iopub.status.idle": "2023-11-21T07:04:27.367037Z",
     "shell.execute_reply": "2023-11-21T07:04:27.365145Z",
     "shell.execute_reply.started": "2023-11-21T07:04:27.354187Z"
    },
    "scrolled": true,
    "tags": []
   },
   "outputs": [],
   "source": [
    "from sklearn.decomposition import PCA\n",
    "import utils\n",
    "import matplotlib.pyplot as plt\n",
    "from sklearn.cluster import KMeans, AgglomerativeClustering\n",
    "from scipy.spatial.distance import cdist\n",
    "import umap\n",
    "import torch\n",
    "import mrc\n",
    "from lattice import Lattice\n",
    "from models import HetOnlyVAE\n",
    "import torch.nn as nn\n",
    "import numpy as np"
   ]
  },
  {
   "cell_type": "code",
   "execution_count": null,
   "metadata": {
    "execution": {
     "iopub.execute_input": "2023-11-15T09:02:35.926256Z",
     "iopub.status.busy": "2023-11-15T09:02:35.926001Z",
     "iopub.status.idle": "2023-11-15T09:02:35.933551Z",
     "shell.execute_reply": "2023-11-15T09:02:35.932120Z",
     "shell.execute_reply.started": "2023-11-15T09:02:35.926232Z"
    },
    "scrolled": true
   },
   "outputs": [],
   "source": [
    "def get_nearest_point(data, query):\n",
    "    \"\"\"\n",
    "    Find closest point in @data to @query\n",
    "    Return datapoint, index\n",
    "    \"\"\"\n",
    "    ind = cdist(query, data).argmin(axis=1)\n",
    "    return data[ind], ind"
   ]
  },
  {
   "cell_type": "markdown",
   "metadata": {},
   "source": [
    "# PCA + Kmeans"
   ]
  },
  {
   "cell_type": "code",
   "execution_count": null,
   "metadata": {
    "execution": {
     "iopub.execute_input": "2023-11-21T07:02:59.349037Z",
     "iopub.status.busy": "2023-11-21T07:02:59.347746Z",
     "iopub.status.idle": "2023-11-21T07:03:01.462315Z",
     "shell.execute_reply": "2023-11-21T07:03:01.459814Z",
     "shell.execute_reply.started": "2023-11-21T07:02:59.348953Z"
    },
    "scrolled": true
   },
   "outputs": [],
   "source": [
    "dirpath =  '/home/bml/storage/mnt/v-5aaaf3e8ff1a43a8/org/huangyue/10049/1112_10049_geom32_256mlp2_heter/'\n",
    "raw = utils.load_pkl(dirpath + 'z.19.pkl')\n",
    "z_mu, z_logvar = raw['z_mu'], raw['z_logvar']\n",
    "pca = PCA(z_mu.shape[1])\n",
    "pca.fit(z_mu)\n",
    "print(\"Explained variance ratio:\")\n",
    "print(pca.explained_variance_ratio_)\n",
    "pc = pca.transform(z_mu)\n",
    "K=4\n",
    "kmeans = KMeans(n_clusters=K, random_state=0, max_iter=10)\n",
    "labels = kmeans.fit_predict(z_mu)\n",
    "centers = kmeans.cluster_centers_\n",
    "\n",
    "centers, centers_ind = get_nearest_point(z_mu, centers)\n",
    "plt.scatter(pc[:,0], pc[:,1]) \n",
    "for ind in centers_ind:\n",
    "    plt.scatter(pc[ind,0],pc[ind,1],c='k')"
   ]
  },
  {
   "cell_type": "markdown",
   "metadata": {},
   "source": [
    "# UMAP"
   ]
  },
  {
   "cell_type": "code",
   "execution_count": null,
   "metadata": {
    "execution": {
     "iopub.execute_input": "2023-11-21T07:03:05.912398Z",
     "iopub.status.busy": "2023-11-21T07:03:05.911631Z",
     "iopub.status.idle": "2023-11-21T07:04:16.290250Z",
     "shell.execute_reply": "2023-11-21T07:04:16.288500Z",
     "shell.execute_reply.started": "2023-11-21T07:03:05.912330Z"
    },
    "scrolled": true,
    "tags": []
   },
   "outputs": [],
   "source": [
    "reducer = umap.UMAP()\n",
    "z_embedded = reducer.fit_transform(z_mu)\n",
    "plt.scatter(z_embedded[:,0], z_embedded[:,1])\n",
    "for ind in centers_ind:\n",
    "    plt.scatter(z_embedded[ind,0],z_embedded[ind,1],c='k')"
   ]
  },
  {
   "cell_type": "markdown",
   "metadata": {},
   "source": [
    "# Agglomerative Cluster"
   ]
  },
  {
   "cell_type": "code",
   "execution_count": null,
   "metadata": {
    "execution": {
     "iopub.execute_input": "2023-11-21T07:04:39.418210Z",
     "iopub.status.busy": "2023-11-21T07:04:39.417284Z"
    },
    "scrolled": true
   },
   "outputs": [],
   "source": [
    "K=6\n",
    "Agg = AgglomerativeClustering(n_clusters=K, linkage='ward')\n",
    "labels = Agg.fit_predict(z_mu)\n",
    "centers = []\n",
    "for i in range(K):\n",
    "    centers.append(z_mu[labels==i].mean(0))\n",
    "centers = np.stack(centers)\n",
    "centers_near, centers_ind, res = get_nearest_point(z_mu, centers, k=1)\n",
    "plt.scatter(z_embedded[:,0], z_embedded[:,1], s=.1, c=labels)\n",
    "it = 0\n",
    "for ind in centers_ind[:,0]:\n",
    "    plt.scatter(z_embedded[ind,0],z_embedded[ind,1],c='k')\n",
    "    plt.annotate('{}'.format(it), (z_embedded[ind,0],z_embedded[ind,1]))\n",
    "    it +=1"
   ]
  },
  {
   "cell_type": "markdown",
   "metadata": {},
   "source": [
    "# Volume Generation"
   ]
  },
  {
   "cell_type": "code",
   "execution_count": null,
   "metadata": {
    "execution": {
     "iopub.execute_input": "2023-11-14T10:44:19.308586Z",
     "iopub.status.busy": "2023-11-14T10:44:19.308107Z",
     "iopub.status.idle": "2023-11-14T10:46:07.206127Z",
     "shell.execute_reply": "2023-11-14T10:46:07.204992Z",
     "shell.execute_reply.started": "2023-11-14T10:44:19.308552Z"
    },
    "scrolled": true,
    "tags": []
   },
   "outputs": [],
   "source": [
    "use_cuda=torch.cuda.is_available()\n",
    "device = torch.device('cpu')\n",
    "in_dim=3\n",
    "D = 192\n",
    "Dz=D\n",
    "extent = 0.5\n",
    "D_sample = D\n",
    "lattice = Lattice(D_sample, D_sample, extent, device=device, endpoint=False)\n",
    "mask = lattice.get_sphere_mask(D//2, soft_edge=0.15*(D//2))\n",
    "\n",
    "in_dim= D**2\n",
    "activation=nn.ReLU\n",
    "qlayers = 3\n",
    "qdim = 256\n",
    "players = 2\n",
    "pdim = 256\n",
    "model = HetOnlyVAE(lattice, qlayers, qdim, players, pdim, in_dim, zdim=8, enc_type='geom_ft', enc_dim=32, activation=activation)\n",
    "model.to(device)\n",
    "Apix=1.23*D/D_sample\n",
    "epochs=[39]\n",
    "with torch.no_grad():\n",
    "    for ind in centers_ind:\n",
    "        for epoch in epochs:\n",
    "            print('Generating epoch {}'.format(epoch))\n",
    "            ckpt = torch.load(dirpath+'/weights.{}.pkl'.format(epoch),map_location=device)\n",
    "            model.load_state_dict(ckpt[\"model_state_dict\"])\n",
    "            model.eval()\n",
    "            vol_recon, _, _ = model(coords=lattice.coords[None], mask=mask[None]>0, z=torch.tensor(z_mu[ind:ind+1],device=device))\n",
    "            mrc.write(dirpath+'vol_it{:03d}_no{}.{}.mrc'.format(epoch, ind, D_sample),vol_recon.squeeze().cpu().numpy(), Apix, is_vol=True)"
   ]
  }
 ],
 "metadata": {
  "kernelspec": {
   "display_name": "Python 3 (ipykernel)",
   "language": "python",
   "name": "python3"
  },
  "language_info": {
   "codemirror_mode": {
    "name": "ipython",
    "version": 3
   },
   "file_extension": ".py",
   "mimetype": "text/x-python",
   "name": "python",
   "nbconvert_exporter": "python",
   "pygments_lexer": "ipython3",
   "version": "3.10.13"
  }
 },
 "nbformat": 4,
 "nbformat_minor": 4
}
